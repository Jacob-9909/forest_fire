{
 "cells": [
  {
   "cell_type": "code",
   "execution_count": 4,
   "metadata": {},
   "outputs": [],
   "source": [
    "import pandas as pd\n",
    "import glob\n",
    "from sqlalchemy import create_engine\n",
    "\n",
    "# PostgreSQL 연결 설정\n",
    "DB_USER = \"postgres\"  # 사용자 이름\n",
    "DB_PASSWORD = \"8350\"  # 비밀번호\n",
    "DB_HOST = \"localhost\"  # 데이터베이스 호스트 (예: localhost)\n",
    "DB_PORT = \"5432\"  # 포트 (기본값: 5432)\n",
    "DB_NAME = \"postgres\"  # 데이터베이스 이름\n",
    "\n",
    "# SQLAlchemy 엔진 생성\n",
    "engine = create_engine(f\"postgresql://{DB_USER}:{DB_PASSWORD}@{DB_HOST}:{DB_PORT}/{DB_NAME}\")\n"
   ]
  },
  {
   "cell_type": "code",
   "execution_count": 5,
   "metadata": {},
   "outputs": [],
   "source": [
    "csv_files = glob.glob('./기온/*.csv')\n",
    "csv_files = [file for file in csv_files if file != 'weather_full.csv']\n",
    "df_list = [pd.read_csv(file, encoding='cp949', delimiter=',', on_bad_lines='skip') for file in csv_files]\n",
    "combined_df = pd.concat(df_list, ignore_index=True).drop(columns=['조건별분석','\\t\\t지점번호','\\t최고기온시각','최저기온시각일교차'])\n",
    "combined_df.dropna(inplace=True)\n",
    "combined_df.to_csv('지역별_기온_최종_AI.csv', index=False, encoding='utf-8')"
   ]
  },
  {
   "cell_type": "code",
   "execution_count": 6,
   "metadata": {},
   "outputs": [
    {
     "data": {
      "text/plain": [
       "920"
      ]
     },
     "execution_count": 6,
     "metadata": {},
     "output_type": "execute_result"
    }
   ],
   "source": [
    "df = pd.read_csv(\"지역별_기온_최종_AI.csv\")  \n",
    "\n",
    "TABLE_NAME = \"지역별_기온_최종_AI\"\n",
    "\n",
    "df.to_sql(TABLE_NAME, con=engine, if_exists=\"append\", index=False)"
   ]
  },
  {
   "cell_type": "code",
   "execution_count": 7,
   "metadata": {},
   "outputs": [],
   "source": [
    "# combined_df['일시'] = pd.to_datetime(combined_df['일시'])\n",
    "# combined_df['연'] = combined_df['일시'].dt.year.astype(int)\n",
    "# combined_df['월'] = combined_df['일시'].dt.month.astype(int)\n",
    "# combined_df['일'] = combined_df['일시'].dt.day.astype(int)\n",
    "\n",
    "# combined_df.rename(columns={\n",
    "#     '평균기온(℃)': 'Avg_Temperature',\n",
    "#     'Unnamed: 8': '일교차',\n",
    "\n",
    "# }, inplace=True)\n",
    "\n",
    "# combined_df['지점명'] = combined_df['지점명'].replace({\n",
    "#     \"서울\": \"서울\",\n",
    "#     \"부산\": \"부산\",\n",
    "#     \"인천\": \"인천\",\n",
    "#     \"광주\": \"광주\",\n",
    "#     \"대전\": \"대전\",\n",
    "#     \"울산\": \"울산\",\n",
    "#     \"동두천\": \"경기\",\n",
    "#     \"홍천\": \"강원\",\n",
    "#     \"청주\": \"충북\",\n",
    "#     \"천안\": \"충남\",\n",
    "#     \"임실\": \"전북\",\n",
    "#     \"목포\": \"전남\",\n",
    "#     \"안동\": \"경북\",\n",
    "#     \"김해시\": \"경남\",\n",
    "#     \"제주\": \"제주\",\n",
    "#     \"세종\": \"세종\"\n",
    "# })"
   ]
  },
  {
   "cell_type": "markdown",
   "metadata": {},
   "source": [
    "---"
   ]
  },
  {
   "cell_type": "code",
   "execution_count": 8,
   "metadata": {},
   "outputs": [],
   "source": [
    "csv_files = glob.glob('./습도/*.csv')\n",
    "csv_files = [file for file in csv_files if file != 'weather_full.csv']\n",
    "df_list = [pd.read_csv(file, encoding='cp949', delimiter=',', on_bad_lines='skip') for file in csv_files]\n",
    "combined_df = pd.concat(df_list, ignore_index=True).drop(columns=['\\t\\t지점번호'])\n",
    "combined_df.dropna(inplace=True)\n",
    "combined_df.to_csv('지역별_습도_최종_AI.csv', index=False, encoding='utf-8')"
   ]
  },
  {
   "cell_type": "code",
   "execution_count": 9,
   "metadata": {},
   "outputs": [
    {
     "data": {
      "text/plain": [
       "423"
      ]
     },
     "execution_count": 9,
     "metadata": {},
     "output_type": "execute_result"
    }
   ],
   "source": [
    "df = pd.read_csv(\"지역별_습도_최종_AI.csv\")  \n",
    "\n",
    "TABLE_NAME = \"지역별_습도_최종_AI\"\n",
    "\n",
    "df.to_sql(TABLE_NAME, con=engine, if_exists=\"append\", index=False)"
   ]
  },
  {
   "cell_type": "code",
   "execution_count": 10,
   "metadata": {},
   "outputs": [],
   "source": [
    "# combined_df['일시'] = pd.to_datetime(combined_df['일시'])\n",
    "# combined_df['연'] = combined_df['일시'].dt.year.astype(int)\n",
    "# combined_df['월'] = combined_df['일시'].dt.month.astype(int)\n",
    "# combined_df['일'] = combined_df['일시'].dt.day.astype(int)\n",
    "\n",
    "# combined_df['지점명'] = combined_df['지점명'].replace({\n",
    "#     \"서울\": \"서울\",\n",
    "#     \"부산\": \"부산\",\n",
    "#     \"인천\": \"인천\",\n",
    "#     \"광주\": \"광주\",\n",
    "#     \"대전\": \"대전\",\n",
    "#     \"울산\": \"울산\",\n",
    "#     \"동두천\": \"경기\",\n",
    "#     \"홍천\": \"강원\",\n",
    "#     \"청주\": \"충북\",\n",
    "#     \"천안\": \"충남\",\n",
    "#     \"임실\": \"전북\",\n",
    "#     \"목포\": \"전남\",\n",
    "#     \"안동\": \"경북\",\n",
    "#     \"김해시\": \"경남\",\n",
    "#     \"제주\": \"제주\",\n",
    "#     \"세종\": \"세종\"\n",
    "# })"
   ]
  },
  {
   "cell_type": "markdown",
   "metadata": {},
   "source": [
    "---"
   ]
  },
  {
   "cell_type": "code",
   "execution_count": 11,
   "metadata": {},
   "outputs": [],
   "source": [
    "csv_files = glob.glob('./강수량/*.csv')\n",
    "csv_files = [file for file in csv_files if file != 'weather_full.csv']\n",
    "df_list = [pd.read_csv(file, encoding='cp949', delimiter=',', on_bad_lines='skip') for file in csv_files]\n",
    "combined_df = pd.concat(df_list, ignore_index=True).drop(columns=['\\t지점번호','1시간최다강수량시각'])\n",
    "combined_df.dropna(how='all', axis=0,inplace=True)\n",
    "combined_df.to_csv('지역별_강수량_최종_AI.csv', index=False, encoding='utf-8')"
   ]
  },
  {
   "cell_type": "code",
   "execution_count": 12,
   "metadata": {},
   "outputs": [
    {
     "data": {
      "text/plain": [
       "187"
      ]
     },
     "execution_count": 12,
     "metadata": {},
     "output_type": "execute_result"
    }
   ],
   "source": [
    "df = pd.read_csv(\"지역별_강수량_최종_AI.csv\")  \n",
    "\n",
    "TABLE_NAME = \"지역별_강수량_최종_AI\"\n",
    "\n",
    "df.to_sql(TABLE_NAME, con=engine, if_exists=\"append\", index=False)"
   ]
  },
  {
   "cell_type": "code",
   "execution_count": 13,
   "metadata": {},
   "outputs": [],
   "source": [
    "# combined_df['일시'] = pd.to_datetime(combined_df['일시'])\n",
    "# combined_df['연'] = combined_df['일시'].dt.year.astype(int)\n",
    "# combined_df['월'] = combined_df['일시'].dt.month.astype(int)\n",
    "# combined_df['일'] = combined_df['일시'].dt.day.astype(int)\n",
    "\n",
    "# combined_df.rename(columns={\n",
    "#     '1시간최다강수량(mm)': '최다강수량',\n",
    "\n",
    "# }, inplace=True)\n",
    "\n",
    "# combined_df['지점명'] = combined_df['지점명'].replace({\n",
    "#     \"서울\": \"서울\",\n",
    "#     \"부산\": \"부산\",\n",
    "#     \"인천\": \"인천\",\n",
    "#     \"광주\": \"광주\",\n",
    "#     \"대전\": \"대전\",\n",
    "#     \"울산\": \"울산\",\n",
    "#     \"동두천\": \"경기\",\n",
    "#     \"홍천\": \"강원\",\n",
    "#     \"청주\": \"충북\",\n",
    "#     \"천안\": \"충남\",\n",
    "#     \"임실\": \"전북\",\n",
    "#     \"목포\": \"전남\",\n",
    "#     \"안동\": \"경북\",\n",
    "#     \"김해시\": \"경남\",\n",
    "#     \"제주\": \"제주\",\n",
    "#     \"세종\": \"세종\"\n",
    "# })"
   ]
  },
  {
   "cell_type": "markdown",
   "metadata": {},
   "source": [
    "---"
   ]
  },
  {
   "cell_type": "code",
   "execution_count": 14,
   "metadata": {},
   "outputs": [],
   "source": [
    "# temp = pd.read_csv('지역별_기온_최종.csv')\n",
    "# humid = pd.read_csv('지역별_습도_최종.csv')\n",
    "# rain = pd.read_csv('지역별_강수량_최종.csv')\n",
    "# merged_df = pd.merge(temp, humid, on=['지점명', '일시', '연', '월', '일'], how='left')\n",
    "# merged_df = pd.merge(merged_df, rain, on=['지점명', '일시', '연', '월', '일'], how='left')\n",
    "# merged_df = merged_df.drop_duplicates(subset=['지점명', '일시'])\n",
    "# merged_df.fillna(0, inplace=True)\n",
    "# merged_df.to_csv('지역별_기온_습도_강수량_최종.csv', index=False, encoding='utf-8')"
   ]
  },
  {
   "cell_type": "code",
   "execution_count": 15,
   "metadata": {},
   "outputs": [],
   "source": [
    "# import psycopg2\n",
    "# from datetime import datetime\n",
    "\n",
    "# def connect_to_db(dbname, user, password, host, port):\n",
    "#     \"\"\"데이터베이스에 연결합니다.\"\"\"\n",
    "#     conn = psycopg2.connect(\n",
    "#         dbname=dbname,\n",
    "#         user=user,\n",
    "#         password=password,\n",
    "#         host=host,\n",
    "#         port=port\n",
    "#     )\n",
    "#     return conn\n",
    "\n",
    "# def query_execute(conn, query_execute):\n",
    "#     \"\"\"쿼리를 실행합니다.\"\"\"\n",
    "#     cur = conn.cursor()\n",
    "#     cur.execute(query_execute)\n",
    "#     conn.commit()\n",
    "#     cur.close()\n",
    "\n",
    "# def insert_data(conn, insert_query, data):\n",
    "#     \"\"\"데이터를 삽입합니다.\"\"\"\n",
    "#     cur = conn.cursor()\n",
    "#     for row in data:\n",
    "#         cur.execute(insert_query, row)\n",
    "#     conn.commit()\n",
    "#     cur.close()\n",
    "\n",
    "# # 데이터베이스 연결 설정\n",
    "# conn = connect_to_db(\n",
    "#     dbname=\"postgres\",\n",
    "#     user=\"postgres\",\n",
    "#     password=\"8350\",\n",
    "#     host=\"localhost\",\n",
    "#     port=\"5432\"\n",
    "# )\n",
    "\n",
    "# # 테이블 삭제 쿼리\n",
    "# drop_table_query = \"DROP TABLE IF EXISTS weather_data\"\n",
    "\n",
    "# # 테이블 생성 쿼리\n",
    "# create_table_query = \"\"\"\n",
    "# CREATE TABLE weather_data (\n",
    "#     지점명 TEXT,\n",
    "#     일시 DATE,\n",
    "#     Avg_Temperature FLOAT,\n",
    "#     최고기온_℃ FLOAT,\n",
    "#     최저기온_℃ FLOAT,\n",
    "#     일교차 FLOAT,\n",
    "#     연 INT,\n",
    "#     월 INT,\n",
    "#     일 INT,\n",
    "#     평균습도_rh FLOAT,\n",
    "#     최저습도_rh FLOAT,\n",
    "#     강수량_mm FLOAT,\n",
    "#     최다강수량 FLOAT\n",
    "# );\n",
    "# \"\"\"\n",
    "\n",
    "# # 테이블 삭제 및 생성\n",
    "# query_execute(conn, drop_table_query)\n",
    "# query_execute(conn, create_table_query)\n",
    "\n",
    "# # 데이터 삽입 쿼리\n",
    "# insert_query = \"\"\"\n",
    "# INSERT INTO weather_data (\n",
    "#     지점명, 일시, Avg_Temperature, 최고기온_℃, 최저기온_℃,\n",
    "#     일교차, 연, 월, 일, 평균습도_rh, 최저습도_rh, 강수량_mm, 최다강수량\n",
    "# ) VALUES (%s, %s, %s, %s, %s, %s, %s, %s, %s, %s, %s, %s, %s);\n",
    "# \"\"\"\n",
    "\n",
    "# # 데이터 준비 (예시 데이터)\n",
    "# data = [\n",
    "#     (\n",
    "#         row['지점명'], \n",
    "#         datetime.strptime(str(row['일시']), '%Y-%m-%d').date(),\n",
    "#         row['Avg_Temperature'],\n",
    "#         row['최고기온(℃)'],\n",
    "#         row['최저기온(℃)'],\n",
    "#         row['일교차'],\n",
    "#         row['연'],\n",
    "#         row['월'],\n",
    "#         row['일'],\n",
    "#         row['평균습도(%rh)'],\n",
    "#         row['최저습도(%rh)'],\n",
    "#         row['강수량(mm)'],\n",
    "#         row['최다강수량']\n",
    "#     )\n",
    "#     for index, row in merged_df.iterrows()  # weather_df는 데이터프레임이라고 가정\n",
    "# ]\n",
    "\n",
    "# # 데이터 삽입\n",
    "# insert_data(conn, insert_query, data)\n",
    "\n",
    "# # 연결 종료\n",
    "# conn.close()"
   ]
  }
 ],
 "metadata": {
  "kernelspec": {
   "display_name": "cuda",
   "language": "python",
   "name": "python3"
  },
  "language_info": {
   "codemirror_mode": {
    "name": "ipython",
    "version": 3
   },
   "file_extension": ".py",
   "mimetype": "text/x-python",
   "name": "python",
   "nbconvert_exporter": "python",
   "pygments_lexer": "ipython3",
   "version": "3.10.16"
  }
 },
 "nbformat": 4,
 "nbformat_minor": 2
}
